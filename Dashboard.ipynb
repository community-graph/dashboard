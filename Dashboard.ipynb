{
 "cells": [
  {
   "cell_type": "code",
   "execution_count": null,
   "metadata": {
    "collapsed": false
   },
   "outputs": [],
   "source": [
    "import os\n",
    "# pip install py2neo\n",
    "from py2neo import Graph\n",
    "# pip install pandas\n",
    "from pandas import DataFrame\n",
    "\n",
    "neo4jUrl = os.environ.get('NEO4J_URL',\"bolt://138.197.15.1:7687\")\n",
    "neo4jUser = os.environ.get('NEO4J_USER',\"all\")\n",
    "neo4jPass = os.environ.get('NEO4J_PASSWORD',\"readonly\")\n",
    "\n",
    "# create connection to Neo4j instance\n",
    "graph = Graph(neo4jUrl,user=neo4jUser,password=neo4jPass)\n",
    "\n",
    "result = graph.run(\"MATCH (a) RETURN COUNT(a)\")\n",
    "for r in result:\n",
    "    print(r)\n"
   ]
  },
  {
   "cell_type": "code",
   "execution_count": null,
   "metadata": {
    "collapsed": false
   },
   "outputs": [],
   "source": [
    "DataFrame(graph.run('''\n",
    "match (c:StackOverflow:Content) \n",
    "return apoc.date.format(toInt(c.created),\"s\",\"YYYY-MM\") as month, count(*) as posts \n",
    "order by month desc\n",
    "''').data()).plot()"
   ]
  }
 ],
 "metadata": {
  "celltoolbar": "Raw Cell Format",
  "kernelspec": {
   "display_name": "Python 2",
   "language": "python",
   "name": "python2"
  },
  "language_info": {
   "codemirror_mode": {
    "name": "ipython",
    "version": 2
   },
   "file_extension": ".py",
   "mimetype": "text/x-python",
   "name": "python",
   "nbconvert_exporter": "python",
   "pygments_lexer": "ipython2",
   "version": "2.7.10"
  }
 },
 "nbformat": 4,
 "nbformat_minor": 2
}
